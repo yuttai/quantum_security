{
 "cells": [
  {
   "cell_type": "code",
   "execution_count": 1,
   "id": "140e464d-cf19-4d80-b876-adda66da7a4b",
   "metadata": {},
   "outputs": [
    {
     "name": "stderr",
     "output_type": "stream",
     "text": [
      "<frozen importlib._bootstrap>:219: RuntimeWarning: scipy._lib.messagestream.MessageStream size changed, may indicate binary incompatibility. Expected 56 from C header, got 64 from PyObject\n"
     ]
    }
   ],
   "source": [
    "import numpy as np\n",
    "\n",
    "# Importing standard Qiskit libraries\n",
    "from qiskit import QuantumCircuit, transpile, Aer, IBMQ\n",
    "from qiskit.tools.jupyter import *\n",
    "from qiskit.visualization import *\n",
    "from ibm_quantum_widgets import *\n",
    "from qiskit.providers.aer import QasmSimulator\n",
    "\n",
    "# Loading your IBM Quantum account(s)\n",
    "provider = IBMQ.load_account()"
   ]
  },
  {
   "cell_type": "code",
   "execution_count": 15,
   "id": "2c92f944-a79c-4779-baae-d0b97b28be96",
   "metadata": {},
   "outputs": [
    {
     "data": {
      "image/png": "[encoded data removed]",
      "text/plain": [
       "<Figure size 253.926x84.28 with 1 Axes>"
      ]
     },
     "execution_count": 15,
     "metadata": {},
     "output_type": "execute_result"
    }
   ],
   "source": [
    "from qiskit import QuantumCircuit, assemble, Aer\n",
    "from qiskit.visualization import plot_histogram\n",
    "from math import sqrt, pi\n",
    "qc = QuantumCircuit(1)\n",
    "qc.initialize([1 / 2, sqrt(3) / 2], 0)\n",
    "qc.save_statevector()   # Tell simulator to save statevector\n",
    "qc.draw()"
   ]
  },
  {
   "cell_type": "code",
   "execution_count": 17,
   "id": "a3795c5f-343c-44a3-8c47-af86c916450b",
   "metadata": {},
   "outputs": [
    {
     "name": "stdout",
     "output_type": "stream",
     "text": [
      "{'0': 0.25, '1': 0.75}\n"
     ]
    },
    {
     "data": {
      "image/png": "[encoded data removed]",
      "text/plain": [
       "<Figure size 504x360 with 1 Axes>"
      ]
     },
     "execution_count": 17,
     "metadata": {},
     "output_type": "execute_result"
    }
   ],
   "source": [
    "counts = Aer.get_backend('aer_simulator').run(qc).result().get_counts()\n",
    "print(counts)\n",
    "plot_histogram(counts)"
   ]
  },
  {
   "cell_type": "code",
   "execution_count": null,
   "id": "e0012d3b-fa13-4299-9ef8-f512438c496c",
   "metadata": {},
   "outputs": [],
   "source": []
  }
 ],
 "metadata": {
  "kernelspec": {
   "display_name": "Python 3 (ipykernel)",
   "language": "python",
   "name": "python3"
  },
  "language_info": {
   "codemirror_mode": {
    "name": "ipython",
    "version": 3
   },
   "file_extension": ".py",
   "mimetype": "text/x-python",
   "name": "python",
   "nbconvert_exporter": "python",
   "pygments_lexer": "ipython3",
   "version": "3.8.13"
  },
  "widgets": {
   "application/vnd.jupyter.widget-state+json": {
    "state": {
     "01a977565a064f258e3b32999d788b25": {
      "model_module": "@jupyter-widgets/controls",
      "model_module_version": "1.5.0",
      "model_name": "HTMLModel",
      "state": {
       "layout": "IPY_MODEL_14ffd0446ee640ffb55e2821180d6d84",
       "style": "IPY_MODEL_b73193141bcb47af8a3ddf24d0b5d5a8",
       "value": "<h5>Backend</h5>"
      }
     },
     "0969ebbfd71949d593b36a1df50dcf16": {
      "model_module": "@jupyter-widgets/controls",
      "model_module_version": "1.5.0",
      "model_name": "HTMLModel",
      "state": {
       "layout": "IPY_MODEL_9916935cb64b4f1db7c413871b500cf7",
       "style": "IPY_MODEL_9f029f8a62544bd887e0a6df1d274d67",
       "value": "<h5>Queue</h5>"
      }
     },
     "14ffd0446ee640ffb55e2821180d6d84": {
      "model_module": "@jupyter-widgets/base",
      "model_module_version": "1.2.0",
      "model_name": "LayoutModel",
      "state": {
       "width": "145px"
      }
     },
     "26632230a5044a4ca97a72fe98fa5ca4": {
      "model_module": "@jupyter-widgets/controls",
      "model_module_version": "1.5.0",
      "model_name": "GridBoxModel",
      "state": {
       "children": [
        "IPY_MODEL_4cd1bb3077874b6f854c4e9bf3be4e5e"
       ],
       "layout": "IPY_MODEL_f6fa31c09da74315864319d97fc16172"
      }
     },
     "2fe0a131da8745de9f8ed01fc3f4fe12": {
      "model_module": "@jupyter-widgets/base",
      "model_module_version": "1.2.0",
      "model_name": "LayoutModel",
      "state": {}
     },
     "414fe61b71804b81a6ab1a0e022e9f5b": {
      "model_module": "@jupyter-widgets/base",
      "model_module_version": "1.2.0",
      "model_name": "LayoutModel",
      "state": {
       "margin": "0px 0px 0px 37px",
       "width": "600px"
      }
     },
     "4cd1bb3077874b6f854c4e9bf3be4e5e": {
      "model_module": "@jupyter-widgets/controls",
      "model_module_version": "1.5.0",
      "model_name": "ButtonModel",
      "state": {
       "button_style": "primary",
       "description": "Clear",
       "layout": "IPY_MODEL_b95e6cd8a0374e38be7f66710c28af07",
       "style": "IPY_MODEL_f5bd53a91958408785a6c7749a45ccdf"
      }
     },
     "74af8e1115444071934fbeb674b4ea02": {
      "model_module": "@jupyter-widgets/controls",
      "model_module_version": "1.5.0",
      "model_name": "DescriptionStyleModel",
      "state": {
       "description_width": ""
      }
     },
     "80dd41bcd2514fb694142f0d14cd424a": {
      "model_module": "@jupyter-widgets/controls",
      "model_module_version": "1.5.0",
      "model_name": "HTMLModel",
      "state": {
       "layout": "IPY_MODEL_a9568af0686f4f06a00036750758e0c5",
       "style": "IPY_MODEL_bd8f7a6456de44689db93696f7b0d63a",
       "value": "<p style='font-family: IBM Plex Sans, Arial, Helvetica, sans-serif; font-size: 20px; font-weight: medium;'>Circuit Properties</p>"
      }
     },
     "98a19b1ea99a4235b47ee6d8310a36f4": {
      "model_module": "@jupyter-widgets/controls",
      "model_module_version": "1.5.0",
      "model_name": "HTMLModel",
      "state": {
       "layout": "IPY_MODEL_aa321cb0672747c1bb4750c77dc98147",
       "style": "IPY_MODEL_dcf043e3ade34b7d989aecd070d8a4ac",
       "value": "<h5>Job ID</h5>"
      }
     },
     "9916935cb64b4f1db7c413871b500cf7": {
      "model_module": "@jupyter-widgets/base",
      "model_module_version": "1.2.0",
      "model_name": "LayoutModel",
      "state": {
       "width": "70px"
      }
     },
     "9f029f8a62544bd887e0a6df1d274d67": {
      "model_module": "@jupyter-widgets/controls",
      "model_module_version": "1.5.0",
      "model_name": "DescriptionStyleModel",
      "state": {
       "description_width": ""
      }
     },
     "a9568af0686f4f06a00036750758e0c5": {
      "model_module": "@jupyter-widgets/base",
      "model_module_version": "1.2.0",
      "model_name": "LayoutModel",
      "state": {
       "margin": "0px 0px 10px 0px"
      }
     },
     "a9eb45ce96644cfaa96a7d2048ec4c13": {
      "model_module": "@jupyter-widgets/controls",
      "model_module_version": "1.5.0",
      "model_name": "HBoxModel",
      "state": {
       "children": [
        "IPY_MODEL_98a19b1ea99a4235b47ee6d8310a36f4",
        "IPY_MODEL_01a977565a064f258e3b32999d788b25",
        "IPY_MODEL_db4cdc202bca4da4b1ca67a31fde49b6",
        "IPY_MODEL_0969ebbfd71949d593b36a1df50dcf16",
        "IPY_MODEL_fe08c8a200b24e10b82af5fb85069be9"
       ],
       "layout": "IPY_MODEL_414fe61b71804b81a6ab1a0e022e9f5b"
      }
     },
     "aa321cb0672747c1bb4750c77dc98147": {
      "model_module": "@jupyter-widgets/base",
      "model_module_version": "1.2.0",
      "model_name": "LayoutModel",
      "state": {
       "width": "190px"
      }
     },
     "ab52834895c2495fb7e1ff10c6cc4c26": {
      "model_module": "@jupyter-widgets/base",
      "model_module_version": "1.2.0",
      "model_name": "LayoutModel",
      "state": {
       "width": "95px"
      }
     },
     "b73193141bcb47af8a3ddf24d0b5d5a8": {
      "model_module": "@jupyter-widgets/controls",
      "model_module_version": "1.5.0",
      "model_name": "DescriptionStyleModel",
      "state": {
       "description_width": ""
      }
     },
     "b95e6cd8a0374e38be7f66710c28af07": {
      "model_module": "@jupyter-widgets/base",
      "model_module_version": "1.2.0",
      "model_name": "LayoutModel",
      "state": {
       "grid_area": "right",
       "padding": "0px 0px 0px 0px",
       "width": "70px"
      }
     },
     "bd8f7a6456de44689db93696f7b0d63a": {
      "model_module": "@jupyter-widgets/controls",
      "model_module_version": "1.5.0",
      "model_name": "DescriptionStyleModel",
      "state": {
       "description_width": ""
      }
     },
     "db4cdc202bca4da4b1ca67a31fde49b6": {
      "model_module": "@jupyter-widgets/controls",
      "model_module_version": "1.5.0",
      "model_name": "HTMLModel",
      "state": {
       "layout": "IPY_MODEL_ab52834895c2495fb7e1ff10c6cc4c26",
       "style": "IPY_MODEL_74af8e1115444071934fbeb674b4ea02",
       "value": "<h5>Status</h5>"
      }
     },
     "dcf043e3ade34b7d989aecd070d8a4ac": {
      "model_module": "@jupyter-widgets/controls",
      "model_module_version": "1.5.0",
      "model_name": "DescriptionStyleModel",
      "state": {
       "description_width": ""
      }
     },
     "e96bcde5449f46868dc7e389118e4488": {
      "model_module": "@jupyter-widgets/controls",
      "model_module_version": "1.5.0",
      "model_name": "DescriptionStyleModel",
      "state": {
       "description_width": ""
      }
     },
     "f5bd53a91958408785a6c7749a45ccdf": {
      "model_module": "@jupyter-widgets/controls",
      "model_module_version": "1.5.0",
      "model_name": "ButtonStyleModel",
      "state": {}
     },
     "f6fa31c09da74315864319d97fc16172": {
      "model_module": "@jupyter-widgets/base",
      "model_module_version": "1.2.0",
      "model_name": "LayoutModel",
      "state": {
       "grid_template_areas": "\n                                       \". . . . right \"\n                                        ",
       "grid_template_columns": "20% 20% 20% 20% 20%",
       "width": "100%"
      }
     },
     "fe08c8a200b24e10b82af5fb85069be9": {
      "model_module": "@jupyter-widgets/controls",
      "model_module_version": "1.5.0",
      "model_name": "HTMLModel",
      "state": {
       "layout": "IPY_MODEL_2fe0a131da8745de9f8ed01fc3f4fe12",
       "style": "IPY_MODEL_e96bcde5449f46868dc7e389118e4488",
       "value": "<h5>Message</h5>"
      }
     }
    },
    "version_major": 2,
    "version_minor": 0
   }
  }
 },
 "nbformat": 4,
 "nbformat_minor": 5
}
